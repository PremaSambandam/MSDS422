{
 "cells": [
  {
   "cell_type": "code",
   "execution_count": 2,
   "metadata": {},
   "outputs": [],
   "source": [
    "import pandas as pd  \n",
    "import numpy as np  \n",
    "import matplotlib.pyplot as plt \n",
    "import seaborn as sns \n"
   ]
  },
  {
   "cell_type": "code",
   "execution_count": 3,
   "metadata": {},
   "outputs": [
    {
     "data": {
      "text/html": [
       "<div>\n",
       "<style scoped>\n",
       "    .dataframe tbody tr th:only-of-type {\n",
       "        vertical-align: middle;\n",
       "    }\n",
       "\n",
       "    .dataframe tbody tr th {\n",
       "        vertical-align: top;\n",
       "    }\n",
       "\n",
       "    .dataframe thead th {\n",
       "        text-align: right;\n",
       "    }\n",
       "</style>\n",
       "<table border=\"1\" class=\"dataframe\">\n",
       "  <thead>\n",
       "    <tr style=\"text-align: right;\">\n",
       "      <th></th>\n",
       "      <th>dateRep</th>\n",
       "      <th>year_week</th>\n",
       "      <th>cases_weekly</th>\n",
       "      <th>deaths_weekly</th>\n",
       "      <th>countriesAndTerritories</th>\n",
       "      <th>geoId</th>\n",
       "      <th>countryterritoryCode</th>\n",
       "      <th>popData2019</th>\n",
       "      <th>continentExp</th>\n",
       "      <th>notification_rate_per_100000_population_14-days</th>\n",
       "    </tr>\n",
       "  </thead>\n",
       "  <tbody>\n",
       "    <tr>\n",
       "      <th>0</th>\n",
       "      <td>4/1/2021</td>\n",
       "      <td>2020-53</td>\n",
       "      <td>902</td>\n",
       "      <td>60</td>\n",
       "      <td>Afghanistan</td>\n",
       "      <td>AF</td>\n",
       "      <td>AFG</td>\n",
       "      <td>38041757.0</td>\n",
       "      <td>Asia</td>\n",
       "      <td>7.61</td>\n",
       "    </tr>\n",
       "    <tr>\n",
       "      <th>1</th>\n",
       "      <td>28/12/2020</td>\n",
       "      <td>2020-52</td>\n",
       "      <td>1994</td>\n",
       "      <td>88</td>\n",
       "      <td>Afghanistan</td>\n",
       "      <td>AF</td>\n",
       "      <td>AFG</td>\n",
       "      <td>38041757.0</td>\n",
       "      <td>Asia</td>\n",
       "      <td>7.19</td>\n",
       "    </tr>\n",
       "    <tr>\n",
       "      <th>2</th>\n",
       "      <td>21/12/2020</td>\n",
       "      <td>2020-51</td>\n",
       "      <td>740</td>\n",
       "      <td>111</td>\n",
       "      <td>Afghanistan</td>\n",
       "      <td>AF</td>\n",
       "      <td>AFG</td>\n",
       "      <td>38041757.0</td>\n",
       "      <td>Asia</td>\n",
       "      <td>6.56</td>\n",
       "    </tr>\n",
       "    <tr>\n",
       "      <th>3</th>\n",
       "      <td>14/12/2020</td>\n",
       "      <td>2020-50</td>\n",
       "      <td>1757</td>\n",
       "      <td>71</td>\n",
       "      <td>Afghanistan</td>\n",
       "      <td>AF</td>\n",
       "      <td>AFG</td>\n",
       "      <td>38041757.0</td>\n",
       "      <td>Asia</td>\n",
       "      <td>9.01</td>\n",
       "    </tr>\n",
       "    <tr>\n",
       "      <th>4</th>\n",
       "      <td>7/12/2020</td>\n",
       "      <td>2020-49</td>\n",
       "      <td>1672</td>\n",
       "      <td>137</td>\n",
       "      <td>Afghanistan</td>\n",
       "      <td>AF</td>\n",
       "      <td>AFG</td>\n",
       "      <td>38041757.0</td>\n",
       "      <td>Asia</td>\n",
       "      <td>7.22</td>\n",
       "    </tr>\n",
       "    <tr>\n",
       "      <th>5</th>\n",
       "      <td>30/11/2020</td>\n",
       "      <td>2020-48</td>\n",
       "      <td>1073</td>\n",
       "      <td>68</td>\n",
       "      <td>Afghanistan</td>\n",
       "      <td>AF</td>\n",
       "      <td>AFG</td>\n",
       "      <td>38041757.0</td>\n",
       "      <td>Asia</td>\n",
       "      <td>6.42</td>\n",
       "    </tr>\n",
       "    <tr>\n",
       "      <th>6</th>\n",
       "      <td>23/11/2020</td>\n",
       "      <td>2020-47</td>\n",
       "      <td>1368</td>\n",
       "      <td>69</td>\n",
       "      <td>Afghanistan</td>\n",
       "      <td>AF</td>\n",
       "      <td>AFG</td>\n",
       "      <td>38041757.0</td>\n",
       "      <td>Asia</td>\n",
       "      <td>6.66</td>\n",
       "    </tr>\n",
       "    <tr>\n",
       "      <th>7</th>\n",
       "      <td>16/11/2020</td>\n",
       "      <td>2020-46</td>\n",
       "      <td>1164</td>\n",
       "      <td>61</td>\n",
       "      <td>Afghanistan</td>\n",
       "      <td>AF</td>\n",
       "      <td>AFG</td>\n",
       "      <td>38041757.0</td>\n",
       "      <td>Asia</td>\n",
       "      <td>4.65</td>\n",
       "    </tr>\n",
       "    <tr>\n",
       "      <th>8</th>\n",
       "      <td>9/11/2020</td>\n",
       "      <td>2020-45</td>\n",
       "      <td>606</td>\n",
       "      <td>24</td>\n",
       "      <td>Afghanistan</td>\n",
       "      <td>AF</td>\n",
       "      <td>AFG</td>\n",
       "      <td>38041757.0</td>\n",
       "      <td>Asia</td>\n",
       "      <td>3.70</td>\n",
       "    </tr>\n",
       "    <tr>\n",
       "      <th>9</th>\n",
       "      <td>2/11/2020</td>\n",
       "      <td>2020-44</td>\n",
       "      <td>800</td>\n",
       "      <td>27</td>\n",
       "      <td>Afghanistan</td>\n",
       "      <td>AF</td>\n",
       "      <td>AFG</td>\n",
       "      <td>38041757.0</td>\n",
       "      <td>Asia</td>\n",
       "      <td>3.77</td>\n",
       "    </tr>\n",
       "  </tbody>\n",
       "</table>\n",
       "</div>"
      ],
      "text/plain": [
       "      dateRep year_week  cases_weekly  deaths_weekly countriesAndTerritories  \\\n",
       "0    4/1/2021   2020-53           902             60             Afghanistan   \n",
       "1  28/12/2020   2020-52          1994             88             Afghanistan   \n",
       "2  21/12/2020   2020-51           740            111             Afghanistan   \n",
       "3  14/12/2020   2020-50          1757             71             Afghanistan   \n",
       "4   7/12/2020   2020-49          1672            137             Afghanistan   \n",
       "5  30/11/2020   2020-48          1073             68             Afghanistan   \n",
       "6  23/11/2020   2020-47          1368             69             Afghanistan   \n",
       "7  16/11/2020   2020-46          1164             61             Afghanistan   \n",
       "8   9/11/2020   2020-45           606             24             Afghanistan   \n",
       "9   2/11/2020   2020-44           800             27             Afghanistan   \n",
       "\n",
       "  geoId countryterritoryCode  popData2019 continentExp  \\\n",
       "0    AF                  AFG   38041757.0         Asia   \n",
       "1    AF                  AFG   38041757.0         Asia   \n",
       "2    AF                  AFG   38041757.0         Asia   \n",
       "3    AF                  AFG   38041757.0         Asia   \n",
       "4    AF                  AFG   38041757.0         Asia   \n",
       "5    AF                  AFG   38041757.0         Asia   \n",
       "6    AF                  AFG   38041757.0         Asia   \n",
       "7    AF                  AFG   38041757.0         Asia   \n",
       "8    AF                  AFG   38041757.0         Asia   \n",
       "9    AF                  AFG   38041757.0         Asia   \n",
       "\n",
       "   notification_rate_per_100000_population_14-days  \n",
       "0                                             7.61  \n",
       "1                                             7.19  \n",
       "2                                             6.56  \n",
       "3                                             9.01  \n",
       "4                                             7.22  \n",
       "5                                             6.42  \n",
       "6                                             6.66  \n",
       "7                                             4.65  \n",
       "8                                             3.70  \n",
       "9                                             3.77  "
      ]
     },
     "execution_count": 3,
     "metadata": {},
     "output_type": "execute_result"
    }
   ],
   "source": [
    "#Reading csv file\n",
    "Covid_df = pd.read_csv('data.csv')\n",
    "Covid_df.head(10)"
   ]
  },
  {
   "cell_type": "code",
   "execution_count": 4,
   "metadata": {},
   "outputs": [
    {
     "name": "stdout",
     "output_type": "stream",
     "text": [
      "<class 'pandas.core.frame.DataFrame'>\n",
      "RangeIndex: 9577 entries, 0 to 9576\n",
      "Data columns (total 10 columns):\n",
      " #   Column                                           Non-Null Count  Dtype  \n",
      "---  ------                                           --------------  -----  \n",
      " 0   dateRep                                          9577 non-null   object \n",
      " 1   year_week                                        9577 non-null   object \n",
      " 2   cases_weekly                                     9577 non-null   int64  \n",
      " 3   deaths_weekly                                    9577 non-null   int64  \n",
      " 4   countriesAndTerritories                          9577 non-null   object \n",
      " 5   geoId                                            9534 non-null   object \n",
      " 6   countryterritoryCode                             9556 non-null   object \n",
      " 7   popData2019                                      9556 non-null   float64\n",
      " 8   continentExp                                     9577 non-null   object \n",
      " 9   notification_rate_per_100000_population_14-days  9344 non-null   float64\n",
      "dtypes: float64(2), int64(2), object(6)\n",
      "memory usage: 748.3+ KB\n"
     ]
    }
   ],
   "source": [
    "#--info provides same data as dtypes and more\n",
    "Covid_df.info()"
   ]
  },
  {
   "cell_type": "code",
   "execution_count": 5,
   "metadata": {},
   "outputs": [
    {
     "data": {
      "text/plain": [
       "(9577, 10)"
      ]
     },
     "execution_count": 5,
     "metadata": {},
     "output_type": "execute_result"
    }
   ],
   "source": [
    "##Shape of the data\n",
    "Covid_df.shape"
   ]
  },
  {
   "cell_type": "code",
   "execution_count": 6,
   "metadata": {},
   "outputs": [
    {
     "data": {
      "text/html": [
       "<div>\n",
       "<style scoped>\n",
       "    .dataframe tbody tr th:only-of-type {\n",
       "        vertical-align: middle;\n",
       "    }\n",
       "\n",
       "    .dataframe tbody tr th {\n",
       "        vertical-align: top;\n",
       "    }\n",
       "\n",
       "    .dataframe thead th {\n",
       "        text-align: right;\n",
       "    }\n",
       "</style>\n",
       "<table border=\"1\" class=\"dataframe\">\n",
       "  <thead>\n",
       "    <tr style=\"text-align: right;\">\n",
       "      <th></th>\n",
       "      <th>cases_weekly</th>\n",
       "      <th>deaths_weekly</th>\n",
       "      <th>popData2019</th>\n",
       "      <th>notification_rate_per_100000_population_14-days</th>\n",
       "    </tr>\n",
       "  </thead>\n",
       "  <tbody>\n",
       "    <tr>\n",
       "      <th>count</th>\n",
       "      <td>9.577000e+03</td>\n",
       "      <td>9577.000000</td>\n",
       "      <td>9.556000e+03</td>\n",
       "      <td>9344.000000</td>\n",
       "    </tr>\n",
       "    <tr>\n",
       "      <th>mean</th>\n",
       "      <td>8.826650e+03</td>\n",
       "      <td>192.711392</td>\n",
       "      <td>4.052920e+07</td>\n",
       "      <td>74.797134</td>\n",
       "    </tr>\n",
       "    <tr>\n",
       "      <th>std</th>\n",
       "      <td>5.273382e+04</td>\n",
       "      <td>894.000231</td>\n",
       "      <td>1.517413e+08</td>\n",
       "      <td>180.101115</td>\n",
       "    </tr>\n",
       "    <tr>\n",
       "      <th>min</th>\n",
       "      <td>-3.864000e+03</td>\n",
       "      <td>-875.000000</td>\n",
       "      <td>8.150000e+02</td>\n",
       "      <td>-132.600000</td>\n",
       "    </tr>\n",
       "    <tr>\n",
       "      <th>25%</th>\n",
       "      <td>7.000000e+00</td>\n",
       "      <td>0.000000</td>\n",
       "      <td>1.293120e+06</td>\n",
       "      <td>0.770000</td>\n",
       "    </tr>\n",
       "    <tr>\n",
       "      <th>50%</th>\n",
       "      <td>1.600000e+02</td>\n",
       "      <td>2.000000</td>\n",
       "      <td>7.169456e+06</td>\n",
       "      <td>7.340000</td>\n",
       "    </tr>\n",
       "    <tr>\n",
       "      <th>75%</th>\n",
       "      <td>2.260000e+03</td>\n",
       "      <td>36.000000</td>\n",
       "      <td>2.851583e+07</td>\n",
       "      <td>58.932500</td>\n",
       "    </tr>\n",
       "    <tr>\n",
       "      <th>max</th>\n",
       "      <td>1.588085e+06</td>\n",
       "      <td>18574.000000</td>\n",
       "      <td>1.433784e+09</td>\n",
       "      <td>3447.460000</td>\n",
       "    </tr>\n",
       "  </tbody>\n",
       "</table>\n",
       "</div>"
      ],
      "text/plain": [
       "       cases_weekly  deaths_weekly   popData2019  \\\n",
       "count  9.577000e+03    9577.000000  9.556000e+03   \n",
       "mean   8.826650e+03     192.711392  4.052920e+07   \n",
       "std    5.273382e+04     894.000231  1.517413e+08   \n",
       "min   -3.864000e+03    -875.000000  8.150000e+02   \n",
       "25%    7.000000e+00       0.000000  1.293120e+06   \n",
       "50%    1.600000e+02       2.000000  7.169456e+06   \n",
       "75%    2.260000e+03      36.000000  2.851583e+07   \n",
       "max    1.588085e+06   18574.000000  1.433784e+09   \n",
       "\n",
       "       notification_rate_per_100000_population_14-days  \n",
       "count                                      9344.000000  \n",
       "mean                                         74.797134  \n",
       "std                                         180.101115  \n",
       "min                                        -132.600000  \n",
       "25%                                           0.770000  \n",
       "50%                                           7.340000  \n",
       "75%                                          58.932500  \n",
       "max                                        3447.460000  "
      ]
     },
     "execution_count": 6,
     "metadata": {},
     "output_type": "execute_result"
    }
   ],
   "source": [
    "##to display descriptive statistics about the data\n",
    "Covid_df.describe()"
   ]
  },
  {
   "cell_type": "code",
   "execution_count": 8,
   "metadata": {},
   "outputs": [
    {
     "data": {
      "text/plain": [
       "<matplotlib.axes._subplots.AxesSubplot at 0x2b28ed22548>"
      ]
     },
     "execution_count": 8,
     "metadata": {},
     "output_type": "execute_result"
    },
    {
     "data": {
      "image/png": "[encoded data removed]",
      "text/plain": [
       "<Figure size 432x288 with 1 Axes>"
      ]
     },
     "metadata": {
      "needs_background": "light"
     },
     "output_type": "display_data"
    }
   ],
   "source": [
    "## create a boxplot for cases_weekly, deaths_weekly\n",
    "Covid_df.boxplot(column=[\"cases_weekly\",\"deaths_weekly\"])"
   ]
  },
  {
   "cell_type": "code",
   "execution_count": 9,
   "metadata": {},
   "outputs": [
    {
     "data": {
      "text/plain": [
       "dateRep                                              0\n",
       "year_week                                            0\n",
       "cases_weekly                                         0\n",
       "deaths_weekly                                        0\n",
       "countriesAndTerritories                              0\n",
       "geoId                                               43\n",
       "countryterritoryCode                                21\n",
       "popData2019                                         21\n",
       "continentExp                                         0\n",
       "notification_rate_per_100000_population_14-days    233\n",
       "dtype: int64"
      ]
     },
     "execution_count": 9,
     "metadata": {},
     "output_type": "execute_result"
    }
   ],
   "source": [
    "##to display the number of missing values in each column\n",
    "Covid_df.isnull().sum()"
   ]
  },
  {
   "cell_type": "code",
   "execution_count": null,
   "metadata": {},
   "outputs": [],
   "source": []
  },
  {
   "cell_type": "code",
   "execution_count": null,
   "metadata": {},
   "outputs": [],
   "source": []
  },
  {
   "cell_type": "code",
   "execution_count": null,
   "metadata": {},
   "outputs": [],
   "source": []
  }
 ],
 "metadata": {
  "kernelspec": {
   "display_name": "Python 3",
   "language": "python",
   "name": "python3"
  },
  "language_info": {
   "codemirror_mode": {
    "name": "ipython",
    "version": 3
   },
   "file_extension": ".py",
   "mimetype": "text/x-python",
   "name": "python",
   "nbconvert_exporter": "python",
   "pygments_lexer": "ipython3",
   "version": "3.7.4"
  }
 },
 "nbformat": 4,
 "nbformat_minor": 4
}
